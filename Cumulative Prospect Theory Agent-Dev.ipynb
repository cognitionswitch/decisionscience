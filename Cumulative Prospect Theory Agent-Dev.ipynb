{
 "cells": [
  {
   "cell_type": "code",
   "execution_count": 317,
   "metadata": {},
   "outputs": [],
   "source": [
    "import numpy as np\n",
    "\n",
    "class PTAgent:\n",
    "    \"\"\"Generate an Prospect Theory agent that expresses preferences between two lotteries \n",
    "    (ie., gambles) according to principles of Prospect Theory (1979). \n",
    "    \n",
    "    PTAgent expresses preference between lotteries by implementing value and \n",
    "    probability weighting functions following Tversky & Kahneman, \n",
    "    Prospect Theory: An Analysis of Decision Under Risk (1972). The functional form\n",
    "    for the value function is taken from Kahneman & Tversky's \n",
    "    Advances in Prospect Theory: Cumulative Representation of Uncertainty (1992). \n",
    "    The functional form of the weighting function is taken from this website:\n",
    "    https://sites.duke.edu/econ206_01_s2011/files/2011/04/39b-Prospect-Theory-Kahnemann-Tversky_final2-1.pdf\n",
    "    \n",
    "    Parameters\n",
    "    ------------\n",
    "    alpha: float {a | 0 <= a <= 1}\n",
    "        - parameter controlling the rate of change in value over gains\n",
    "    beta (optional): float {b | 0 <= b <= 1}, default=None\n",
    "        - parameter controlling the rate of change in value over losses\n",
    "    lambda_: float {l| l > 1}\n",
    "        - parameter controlling the steepness of the value function over losses relative to gains \n",
    "    delta: float {d| 0 <= d <= 1}\n",
    "        - weighting function parameter controlling the shape of the transformation of probability\n",
    "        \n",
    "    Attributes\n",
    "    ------------\n",
    "    parameters: dictionary\n",
    "        - a mapping of value function and weighting function parameter names (keys) and parameter inputs (values) \n",
    "    _value_fn: function\n",
    "        - input floating point representing outcome value\n",
    "        - output calculation of value function based on input, alpha, beta (optional), and lambda_ parameters\n",
    "    _gain_wt_fn: function\n",
    "        - input floating point representing probability\n",
    "        - output calculation of weighting function for probabilities associated with non-negative outcomes \n",
    "        based on probability and delta parameter\n",
    "    \"\"\"\n",
    "    \n",
    "    def __init__(self, alpha:float=1, beta:float=None, gamma:float=1, delta:float=None, lambda_:float=1):\n",
    "        \n",
    "        beta = beta or alpha\n",
    "        delta = delta or gamma\n",
    "        \n",
    "        # range checks\n",
    "        assert self._zero_one_bound(alpha, beta, gamma, delta),\\\n",
    "        'alpha, gamma (and optional beta, delta) parameters must lie within 0 and 1 inclusive'\n",
    "        assert lambda_ >= 1,\\\n",
    "        'lambda_ parameter must be be greater than or equal to 1'\n",
    "        \n",
    "        self.parameters = {'alpha':alpha, \n",
    "                           'beta':beta, \n",
    "                           'gamma':gamma,\n",
    "                           'delta':delta,\n",
    "                           'lambda':lambda_\n",
    "                          }\n",
    "        \n",
    "        self._value_fn = lambda x: x**alpha if x >= 0 else -lambda_*((-x)**beta)\n",
    "        self._gain_wt_fn = lambda p: np.exp(-(-np.log(p))**gamma)\n",
    "        self._loss_wt_fn = lambda p: np.exp(-(-np.log(p))**delta)\n",
    "        \n",
    "    def __repr__(self):\n",
    "        return 'PTAgent(alpha=%r, beta=%r, gamma=%r, delta=%r, lambda_=%r)' \\\n",
    "    % tuple(self.parameters.values())\n",
    "\n",
    "    def _zero_one_bound(self, *args)->bool:\n",
    "        \"\"\"Range check on instance parameters.\n",
    "        Tests whether all positional inputs fall within 0 and 1 inclusive\"\"\"\n",
    "        return all([n <= 1 and n >=0 for n in args])\n",
    "    \n",
    "    def evaluate(self, lottery:dict, verbose:bool=False)->float:\n",
    "        \"\"\"Lottery valuation\n",
    "        \n",
    "        Parameters\n",
    "        ----------\n",
    "        lottery: dictionary containing two items\n",
    "            - key 'outcome': list of real numbers corresponding to outcomes \n",
    "            - key 'probability': list of floats between 0 and 1 \n",
    "            Length of list associated with 'probability' must match length of list associated with 'outcome' \n",
    "        verbose: bool \n",
    "            - True: output list of outcome, probability tuples sorted by outcome; capacities; valuation\n",
    "            - False: output valuation\n",
    "        \n",
    "        returns\n",
    "        ----------\n",
    "        valuation (if verbose=False) : float representing overall value of lottery to PTAgent instance\n",
    "        dict (if verbose=True):\n",
    "            - valuation : float representing overall value of lottery to PTAgent instance\n",
    "            - lottery : list of tuples containing outcome, probability pairs sorted by outcome\n",
    "            - lottery_trans : list of outcomes after value transformation function \n",
    "        \"\"\"\n",
    "        # consistency checks\n",
    "        assert len(lottery['outcome'])==len(lottery['probability']),\\\n",
    "        'number of probabilities must match number of outcomes'\n",
    "        assert all(p >=0 for p in lottery['probability']),\\\n",
    "        'probabilities must be greater than or equal to 0'       \n",
    "        assert sum(lottery['probability']) <= 1, 'sum of probabilities must not exceed one'\n",
    "        \n",
    "        lottery_ls = [(o, p) for o, p in zip(lottery['outcome'], lottery['probability'])]\n",
    "        lottery_trans_ls = [(self._value_fn(o), self._wt_transform(p, gain=o>=0)) for (o, p) in lottery_ls]\n",
    "        \n",
    "        \n",
    "        if (len(lottery_ls) == 2) & (sum(tup[1] for tup in lottery_ls) < 1) & (all(tup[0] >= 0 for tup in lottery_ls) | all(tup[0] < 0 for tup in lottery_ls)):\n",
    "            min_abs_val_idx = np.argmin(abs(tup[0]) < 0 for tup in lottery_ls)\n",
    "            max_abs_val_idx = 1 - min_abs_val_idx \n",
    "            low_abs_xpect = lottery_ls[min_abs_val_idx]\n",
    "            high_abs_xpect = lottery_ls[max_abs_val_idx]\n",
    "            valuation = low_abs_xpect[0] + high_abs_xpect[1]*(high_abs_xpect[0] - low_abs_xpect[0])\n",
    "        else: \n",
    "            valuation = sum(v*w for (v, w) in lottery_trans_ls)\n",
    "        \n",
    "        if verbose:\n",
    "            return dict(valuation=valuation, lottery=lottery_ls, lottery_trans=lottery_trans_ls)\n",
    "        else: \n",
    "            return valuation\n",
    "    \n",
    "    def _wt_transform(self, p:float, gain:bool=True)->list:\n",
    "        \"\"\"Compute weight transformations function for probability p\n",
    "        \n",
    "        Parameters\n",
    "        ----------\n",
    "        p: float {x: 0 <= x <= 1}\n",
    "            - probability of a lottery outcome\n",
    "        gain: bool\n",
    "            - boolean signifying whether the outcome associated with probability p is non-negative\n",
    "\n",
    "        returns: weight transformation of probability p\n",
    "        \"\"\"\n",
    "\n",
    "        if gain:\n",
    "            weight = self._gain_wt_fn(p)\n",
    "        else:\n",
    "            weight = self._loss_wt_fn(p)\n",
    "            \n",
    "        return weight\n",
    "    \n",
    "    def choose(self, lottery1:dict=None, lottery2:dict=None):\n",
    "        \"\"\"Choice between two lotteries\"\"\"\n",
    "        \n",
    "        return {'lottery1':lottery1} if self.evaluate(lottery1) > self.evaluate(lottery2) else {'lottery2':lottery2}"
   ]
  },
  {
   "cell_type": "code",
   "execution_count": 318,
   "metadata": {},
   "outputs": [],
   "source": [
    "import numpy as np\n",
    "\n",
    "class CPTAgent(PTAgent):\n",
    "    \n",
    "    \"\"\"Generate an agent that expresses preferences between two lotteries \n",
    "    (ie., gambles) according to principles of Cumulative Prospect Theory (1992). \n",
    "    \n",
    "    Generates preferences between lotteries by implementing value and \n",
    "    probability weighting functions following Tversky & Kahneman, \n",
    "    Advances in Prospect Theory: Cumulative Representation of Uncertainty (1992).\n",
    "    \n",
    "    Parameters\n",
    "    ------------\n",
    "    alpha: float {a | 0 <= a <= 1}\n",
    "        - parameter controlling the rate of change in value over gains\n",
    "    beta (optional): float {b | 0 <= b <= 1}, default=None\n",
    "        - parameter controlling the rate of change in value over losses\n",
    "    lambda_: float {l| l > 1}\n",
    "        - parameter controlling the steepness of the value function over losses relative to gains \n",
    "    delta: float {d| 0 <= d <= 1}\n",
    "        - parameter controlling the shape of the transformation of probability weight\n",
    "        \n",
    "    Attributes\n",
    "    ------------\n",
    "    parameters: dictionary\n",
    "        - contains parameter names as keys and parameter inputs as values\n",
    "    value_fun: function\n",
    "        - input floating point representing utility\n",
    "        - output calculation of value function based on input, alpha, beta (optional), and lambda_ parameters\n",
    "    weight_fun: function\n",
    "        - input floating point representing probability\n",
    "        - output calculation of value function based on probability and delta parameter\n",
    "    \"\"\"\n",
    "    \n",
    "    def __init__(self, alpha:float=1, beta:float=None, gamma:float=1, delta:float=None, lambda_:float=1):\n",
    "        \n",
    "        beta = beta or alpha\n",
    "        delta = delta or gamma\n",
    "        \n",
    "        super().__init__(alpha, beta, gamma, delta, lambda_)\n",
    "        \n",
    "        # override PTAgent weighting functions with cumulative prospect theory weighting functions (Kahneman & Tversky, 1990)\n",
    "        self._gain_wt_fn = lambda p: p**gamma/(p**gamma + (1-p)**gamma)**gamma\n",
    "        self._loss_wt_fn = lambda p: p**delta/(p**delta + (1-p)**delta)**delta\n",
    "        \n",
    "    def __repr__(self):\n",
    "        return 'CPTAgent(alpha=%r, beta=%r, gamma=%r, delta=%r, lambda_=%r)' % tuple(self.parameters.values())\n",
    "    \n",
    "    def evaluate(self, lottery:dict, verbose:bool=False)->float:\n",
    "        \"\"\"Lottery valuation\n",
    "        \n",
    "        Parameters\n",
    "        ----------\n",
    "        lottery: dictionary containing two items\n",
    "            - key 'outcome': list of real numbers corresponding to outcomes \n",
    "            - key 'probability': list of floats between 0 and 1 \n",
    "            Length of list associated with 'probability' must match length of list associated with 'outcome' \n",
    "        verbose: bool \n",
    "            - True: output list of outcome, probability tuples sorted by outcome; capacities; valuation\n",
    "            - False: output valuation\n",
    "        \n",
    "        returns\n",
    "        ----------\n",
    "        valuation (if verbose=False) : float representing overall value to decision maker\n",
    "        dict (if verbose=True):\n",
    "            - valuation : float representing overall value to decision maker\n",
    "            - prospect : list of tuples containing outcome, probability pairs sorted by outcome\n",
    "            - transform_value : list of outcomes after value transformation function \n",
    "            - capacity : list of capacities sorted by outcome\n",
    "        \"\"\"\n",
    "        \n",
    "        # consistency checks\n",
    "        assert len(lottery['outcome'])==len(lottery['probability']),\\\n",
    "        'number of probabilities must match number of outcomes'\n",
    "        assert all(p >=0 for p in lottery['probability']),\\\n",
    "        'probabilities must be greater than or equal to 0'       \n",
    "        assert sum(lottery['probability']) <= 1, 'sum of probabilities must not exceed one'\n",
    "        \n",
    "        lottery_ls = [(o, p) for o, p in zip(lottery['outcome'], lottery['probability'])]\n",
    "        srt_lottery_ls = sorted(lottery_ls, key=lambda x: x[0]) # prospects sorted by outcome\n",
    "        gain_ls = [n for n in srt_lottery_ls if n[0]>=0] \n",
    "        loss_ls = [n for n in srt_lottery_ls if n[0]<0]\n",
    "        rvs_loss_ls = list(reversed(loss_ls))\n",
    "        \n",
    "        # compute capacities\n",
    "        capacity_ge0 = self._cap_fn(gain_ls)\n",
    "        capacity_lt0 = list(reversed(self._cap_fn(rvs_loss_ls, gain=False)))\n",
    "        capacity_ls = capacity_lt0 + capacity_ge0\n",
    "        \n",
    "        # compute utilities and valuation\n",
    "        trans_val_ls = [self._value_fn(o) for o, p in srt_lottery_ls]\n",
    "        valuation = sum(o*c for o,c in zip(trans_val_ls, capacity_ls))\n",
    "        \n",
    "        if verbose:\n",
    "            return dict(valuation=valuation, lottery=srt_lottery_ls, transform_value=trans_val_ls, capacity=capacity_ls)\n",
    "        else: \n",
    "            return valuation\n",
    "        \n",
    "    def _cap_fn(self, sgn_lottery_ls:list, gain:bool=True)->list:\n",
    "        \"\"\"Compute capacities for each outcome-probability pair in list\n",
    "        Parameters\n",
    "        ----------\n",
    "        sgn_lottery_ls: list containing tuples of outcomes and probabilities: (outcome, probability)\n",
    "            - lists should contain either all negative outcomes, or all non-negative outcomes\n",
    "            - lists should be sorted in ascending order of increasing absolute magnitude of outcomes:\n",
    "                - positive outcomes: eg., [(0, 0.2), (3.5, 0.1), (4, 0.3)]\n",
    "                - negative outcomes: eg., [(-1, 0.3), (-5, 0.1)]\n",
    "        gain: bool\n",
    "            - indicates whether all elements of sgn_lottery_ls are negative (False) or all non-negative (True)\n",
    "\n",
    "        returns: list of capacities for each outcome-probability pair in sgn_lottery_ls\n",
    "        \"\"\"\n",
    "        \n",
    "        ls_len = len(sgn_lottery_ls)\n",
    "        csum_p_ls = [sum(tup[1] for tup in sgn_lottery_ls[opt:]) for opt in range(0, ls_len)]\n",
    "        weight_i_ls = [self._wt_transform(p, gain) for p in csum_p_ls]\n",
    "        weight_j_ls = [self._wt_transform(p, gain) for p in csum_p_ls[1:]]+[0]\n",
    "            \n",
    "        return [i-j for i, j in zip(weight_i_ls, weight_j_ls)]"
   ]
  },
  {
   "cell_type": "code",
   "execution_count": 319,
   "metadata": {},
   "outputs": [],
   "source": [
    "pt = PTAgent(alpha=0.88, gamma=0.61, lambda_=2.25)"
   ]
  },
  {
   "cell_type": "code",
   "execution_count": 320,
   "metadata": {},
   "outputs": [
    {
     "data": {
      "text/plain": [
       "PTAgent(alpha=0.88, beta=0.88, gamma=0.61, delta=0.61, lambda_=2.25)"
      ]
     },
     "execution_count": 320,
     "metadata": {},
     "output_type": "execute_result"
    }
   ],
   "source": [
    "pt"
   ]
  },
  {
   "cell_type": "code",
   "execution_count": 321,
   "metadata": {},
   "outputs": [],
   "source": [
    "# Problem 1\n",
    "prsp_1A = {'outcome':[2500, 2400, 0], 'probability':[0.33, 0.66, 0.01]}\n",
    "prsp_1B = {'outcome':[2400], 'probability':[1]}"
   ]
  },
  {
   "cell_type": "code",
   "execution_count": 322,
   "metadata": {},
   "outputs": [
    {
     "data": {
      "text/plain": [
       "({'valuation': 862.3558441388727,\n",
       "  'lottery': [(2500, 0.33), (2400, 0.66), (0, 0.01)],\n",
       "  'lottery_trans': [(977.6585611046761, 0.34474642706925324),\n",
       "   (943.1611269569653, 0.5569690409095258),\n",
       "   (0.0, 0.07898354177179706)]},\n",
       " {'valuation': 943.1611269569653,\n",
       "  'lottery': [(2400, 1)],\n",
       "  'lottery_trans': [(943.1611269569653, 1.0)]})"
      ]
     },
     "execution_count": 322,
     "metadata": {},
     "output_type": "execute_result"
    }
   ],
   "source": [
    "(pt.evaluate(prsp_1A, verbose=True), pt.evaluate(prsp_1B, verbose=True))"
   ]
  },
  {
   "cell_type": "code",
   "execution_count": 323,
   "metadata": {},
   "outputs": [],
   "source": [
    "# Problem 2\n",
    "prsp_2C = {'outcome':[2500, 0], 'probability':[0.33, 0.67]}\n",
    "prsp_2D = {'outcome':[2400, 0], 'probability':[0.34, 0.66]}"
   ]
  },
  {
   "cell_type": "code",
   "execution_count": 324,
   "metadata": {},
   "outputs": [
    {
     "data": {
      "text/plain": [
       "({'valuation': 337.0442958345043,\n",
       "  'lottery': [(2500, 0.33), (0, 0.67)],\n",
       "  'lottery_trans': [(977.6585611046761, 0.34474642706925324),\n",
       "   (0.0, 0.5642641790743294)]},\n",
       " {'valuation': 330.9198708085482,\n",
       "  'lottery': [(2400, 0.34), (0, 0.66)],\n",
       "  'lottery_trans': [(943.1611269569653, 0.3508624998956805),\n",
       "   (0.0, 0.5569690409095258)]})"
      ]
     },
     "execution_count": 324,
     "metadata": {},
     "output_type": "execute_result"
    }
   ],
   "source": [
    "(pt.evaluate(prsp_2C, verbose=True), pt.evaluate(prsp_2D, verbose=True))"
   ]
  },
  {
   "cell_type": "code",
   "execution_count": 325,
   "metadata": {},
   "outputs": [
    {
     "data": {
      "text/plain": [
       "{'lottery2': {'outcome': [2400], 'probability': [1]}}"
      ]
     },
     "execution_count": 325,
     "metadata": {},
     "output_type": "execute_result"
    }
   ],
   "source": [
    "pt.choose(prsp_1A, prsp_1B)"
   ]
  },
  {
   "cell_type": "code",
   "execution_count": 326,
   "metadata": {},
   "outputs": [
    {
     "data": {
      "text/plain": [
       "{'lottery1': {'outcome': [2500, 0], 'probability': [0.33, 0.67]}}"
      ]
     },
     "execution_count": 326,
     "metadata": {},
     "output_type": "execute_result"
    }
   ],
   "source": [
    "pt.choose(prsp_2C, prsp_2D)"
   ]
  },
  {
   "cell_type": "markdown",
   "metadata": {},
   "source": [
    "---"
   ]
  },
  {
   "cell_type": "code",
   "execution_count": 327,
   "metadata": {},
   "outputs": [
    {
     "data": {
      "text/plain": [
       "{'lottery2': {'outcome': [3000], 'probability': [1]}}"
      ]
     },
     "execution_count": 327,
     "metadata": {},
     "output_type": "execute_result"
    }
   ],
   "source": [
    "# Problem 3\n",
    "prsp_3A = {'outcome':[4000, 0], 'probability':[0.8, 0.2]}\n",
    "prsp_3B = {'outcome':[3000], 'probability':[1]}\n",
    "\n",
    "pt.choose(prsp_3A, prsp_3B)"
   ]
  },
  {
   "cell_type": "code",
   "execution_count": 328,
   "metadata": {},
   "outputs": [],
   "source": [
    "# Problem 3'\n",
    "prsp_3A_, prsp_3B_ = prsp_3A.copy(), prsp_3B.copy()\n",
    "prsp_3A_.update({'outcome':[-g for g in prsp_3A_['outcome']]})\n",
    "prsp_3B_.update({'outcome':[-g for g in prsp_3B_['outcome']]})"
   ]
  },
  {
   "cell_type": "code",
   "execution_count": 329,
   "metadata": {},
   "outputs": [
    {
     "data": {
      "text/plain": [
       "{'lottery1': {'outcome': [-4000, 0], 'probability': [0.8, 0.2]}}"
      ]
     },
     "execution_count": 329,
     "metadata": {},
     "output_type": "execute_result"
    }
   ],
   "source": [
    "pt.choose(prsp_3A_, prsp_3B_)"
   ]
  }
 ],
 "metadata": {
  "kernelspec": {
   "display_name": "Python 3",
   "language": "python",
   "name": "python3"
  },
  "language_info": {
   "codemirror_mode": {
    "name": "ipython",
    "version": 3
   },
   "file_extension": ".py",
   "mimetype": "text/x-python",
   "name": "python",
   "nbconvert_exporter": "python",
   "pygments_lexer": "ipython3",
   "version": "3.6.12"
  }
 },
 "nbformat": 4,
 "nbformat_minor": 4
}
