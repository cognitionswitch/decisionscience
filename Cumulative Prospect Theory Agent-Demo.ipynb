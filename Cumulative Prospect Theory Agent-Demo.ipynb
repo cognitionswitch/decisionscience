{
 "cells": [
  {
   "cell_type": "markdown",
   "metadata": {},
   "source": [
    "# Cumulative Prospect Theory Agent Demo"
   ]
  },
  {
   "cell_type": "markdown",
   "metadata": {},
   "source": [
    "The script below demonstrates the functionality of the CPTAgent class for reproducing patterns of choice behavior described by Kahneman & Tverski (1979) and Tverski & Kahneman (1992). The CPTAgent class incorporates the utility function and probability weighting function proposed in Tverski & Kahneman (1992), with specification of function parameters during generation of a CPTAgent instance. \n",
    "\n",
    "The utility function is described for positive and negative outcomes as follows:\n",
    " $$v(x) = \\begin{equation}\n",
    "\\left\\{ \n",
    "  \\begin{aligned}\n",
    "    x^\\alpha& \\;\\; \\text{if} \\, x \\ge 0\\\\\n",
    "    -\\lambda (-x)^\\beta& \\;\\; \\text{if} \\, x \\lt 0\\\\\n",
    "  \\end{aligned}\n",
    "  \\right.\n",
    "\\end{equation}$$\n",
    "\n",
    "For probabilities $p$ associated with positive valence outcomes, the probability weighting function is expressed as:\n",
    "$$w^{+}(p) = \\frac{p^\\gamma}{\\left(p^\\gamma+(1-p)^\\gamma) \\right)^{1/ \\gamma}}$$\n",
    "\n",
    "For probabilities $p$ associated with negative valence outcomes, the probability weighting function is expressed similarly as:\n",
    "$$w^{-}(p) = \\frac{p^\\delta}{\\left(p^\\delta+(1-p)^\\delta) \\right)^{1/ \\delta}}$$\n",
    "\n",
    "Following Kahneman & Tverski (1992), the CPTAgent class does not utilize a distinct weighting function for positive and negative valence outcomes (ie., $\\gamma = \\delta$). Specification of the following parameters leads to an agent that chooses according to expected utility theory:\n",
    "- $\\alpha = \\beta = 1$\n",
    "- $\\gamma = \\delta = 1$\n",
    "- $\\lambda = 1$"
   ]
  },
  {
   "cell_type": "markdown",
   "metadata": {},
   "source": [
    "## Normative choice \n",
    "\n",
    "Expected utility theory stands on several axioms.\n",
    "- Substitution: if $B > A$ then probability mixture $(B, p) > (A, p)$."
   ]
  },
  {
   "cell_type": "markdown",
   "metadata": {},
   "source": [
    "## Descriptive choice behavior\n",
    "\n",
    "When $\\alpha, \\beta, \\gamma, \\delta$ take values on the interval $(0, 1)$, and when $\\lambda > 1$, certain properties emerge from the value and weighting functions that can explain patterns of choice behavior.\n",
    "\n",
    "Properties of the weighting function $\\pi(p)$.\n",
    "1. **subadditivity**, $\\pi(rp) > r\\pi(p)$, for values of $p$ close to 0.\n",
    "    - this can explain observed preferences for gambles and insurance where decision makers elect unlikely positive or choose to avert unlikely negative outcomes.\n",
    "2. **overweighting**, $\\pi(p) > p$, for values of $p$ close to 0.\n",
    "3. **subcertainty**, $\\pi(p) + \\pi(1-p) < 1$.\n",
    "4. **subproportionality**\n",
    "\n",
    "##### Notation\n",
    "\n",
    "- We denote an outcome and its associated probability as a tuple $(G_1, p_1)$ and $(L_1, p_1)$, where $G_1$ is used to denote gains and $L_1$ denotes losses.\n",
    "- A prospect is a set of gains and/or losses with associated probabilities: $[(L_1, p_1), ..., (G_n, p_n)]$, where $\\sum p_i = 1$.\n",
    "- A preference between two prospect, for example \"A is prefered to B\", is denoted as $A > B$.  \n",
    "\n",
    "The following instance of CPTAgent uses function parameters estimated in Tverski & Kahneman (1992). These parameters are sufficient to replicate observed modal choices between prospects in (Kahneman & Tverski, 1992) and (Tverski & Kahneman, 1992)"
   ]
  },
  {
   "cell_type": "code",
   "execution_count": 2,
   "metadata": {},
   "outputs": [],
   "source": [
    "from cpt_agent import CPTAgent"
   ]
  },
  {
   "cell_type": "code",
   "execution_count": 3,
   "metadata": {},
   "outputs": [],
   "source": [
    "pt = CPTAgent(alpha=0.88, gamma=0.61, lambda_=2.25)"
   ]
  },
  {
   "cell_type": "code",
   "execution_count": 8,
   "metadata": {},
   "outputs": [
    {
     "name": "stdout",
     "output_type": "stream",
     "text": [
      "CPTAgent(alpha=0.88, beta=0.88, gamma=0.61, delta=0.61, lambda_=2.25)\n"
     ]
    }
   ],
   "source": [
    "print(pt)"
   ]
  },
  {
   "cell_type": "markdown",
   "metadata": {},
   "source": [
    "### The certainty effect\n",
    "\n",
    "The certainty effect demonstrates that reducing the probability of outcomes from certainty has larger effects on preferences than equivalent reductions from risky (ie., non-certain) outcomes. Problems 1 and 2 illustrate this effect for absolute reductions in probabilities and problems 3 and 4 show this effect for relative reductions in probabilities. "
   ]
  },
  {
   "cell_type": "markdown",
   "metadata": {},
   "source": [
    "- Problem 1: $[(G_1, p_1), (G_2, p_2), (0, p_3)] < [(G_2, 1)]$\n",
    "- Problem 2: $[(G_1, p_1), (G_2, 0), (0, p_3)] > [(G_2, 1-p_2)]$\n",
    "\n",
    "Subtracting probability $p_2$ of outcome $G_2$ from both options in problem 1 leads to a preference reversal in problem 2."
   ]
  },
  {
   "cell_type": "code",
   "execution_count": 9,
   "metadata": {},
   "outputs": [
    {
     "data": {
      "text/plain": [
       "{'prospect2': {'outcome': [2400], 'probability': [1]}}"
      ]
     },
     "execution_count": 9,
     "metadata": {},
     "output_type": "execute_result"
    }
   ],
   "source": [
    "# Problem 1\n",
    "prsp_1A = {'outcome':[2500, 2400, 0], 'probability':[0.33, 0.66, 0.01]}\n",
    "prsp_1B = {'outcome':[2400], 'probability':[1]}\n",
    "\n",
    "pt.choose(prsp_1A, prsp_1B)"
   ]
  },
  {
   "cell_type": "code",
   "execution_count": 10,
   "metadata": {},
   "outputs": [
    {
     "data": {
      "text/plain": [
       "{'prospect1': {'outcome': [2500, 0], 'probability': [0.33, 0.67]}}"
      ]
     },
     "execution_count": 10,
     "metadata": {},
     "output_type": "execute_result"
    }
   ],
   "source": [
    "# Problem 2\n",
    "prsp_2C = {'outcome':[2500, 0], 'probability':[0.33, 0.67]}\n",
    "prsp_2D = {'outcome':[2400, 0], 'probability':[0.34, 0.66]}\n",
    "\n",
    "pt.choose(prsp_2C, prsp_2D)"
   ]
  },
  {
   "cell_type": "markdown",
   "metadata": {},
   "source": [
    "- Problem 3: $[(G_1, p_1), (0, 1-p_1)] < [(G_2, 1)]$\n",
    "- Problem 4: $\\left[\\left(G_1, p_1\\cdot p^{*}\\right), \\left(0, \\frac{1-p_1}{p^{*}}\\right)\\right] > [(G_2, p^{*}), (0, 1-p^{*})]$\n",
    "\n",
    "Scaling probabilities of risky outcome $G_1$ and certain outcome $G_2$ by $p^{*}$ in problem 3 leads to a preference reversal in problem 4. This preference reversal violates the substitution axiom of expected utility theory."
   ]
  },
  {
   "cell_type": "code",
   "execution_count": 11,
   "metadata": {},
   "outputs": [
    {
     "data": {
      "text/plain": [
       "{'prospect2': {'outcome': [3000], 'probability': [1]}}"
      ]
     },
     "execution_count": 11,
     "metadata": {},
     "output_type": "execute_result"
    }
   ],
   "source": [
    "# Problem 3\n",
    "prsp_3A = {'outcome':[4000, 0], 'probability':[0.8, 0.2]}\n",
    "prsp_3B = {'outcome':[3000], 'probability':[1]}\n",
    "\n",
    "pt.choose(prsp_3A, prsp_3B)"
   ]
  },
  {
   "cell_type": "code",
   "execution_count": 12,
   "metadata": {},
   "outputs": [
    {
     "data": {
      "text/plain": [
       "{'prospect1': {'outcome': [4000, 0], 'probability': [0.2, 0.8]}}"
      ]
     },
     "execution_count": 12,
     "metadata": {},
     "output_type": "execute_result"
    }
   ],
   "source": [
    "# Problem 4\n",
    "prsp_4C = {'outcome':[4000, 0], 'probability':[0.2, 0.8]}\n",
    "prsp_4D = {'outcome':[3000, 0], 'probability':[0.25, 0.75]}\n",
    "\n",
    "pt.choose(prsp_4C, prsp_4D)"
   ]
  },
  {
   "cell_type": "markdown",
   "metadata": {},
   "source": [
    "### The reflection effect\n",
    "\n",
    "The reflection effect demonstrates that altering outcomes by recasting prospects from the domain of gains to losses will correspondingly alter decision behavior from risk-aversion to risk-seeking. Since the reflection effect highlights preferences characterized as risk-seeking in the loss domain, the effect disqualifies risk-aversion as a general principle for explaining the certainty effect above. "
   ]
  },
  {
   "cell_type": "markdown",
   "metadata": {},
   "source": [
    "- Problem 3: $[(G_1, p_1), (0, 1-p_1)] < [(G_2, 1)]$\n",
    "- Problem 3': $[(-G_1, p_1), (0, 1-p_1)] > [(-G_2, 1)]$"
   ]
  },
  {
   "cell_type": "code",
   "execution_count": 13,
   "metadata": {},
   "outputs": [
    {
     "data": {
      "text/plain": [
       "{'prospect1': {'outcome': [-4000, 0], 'probability': [0.8, 0.2]}}"
      ]
     },
     "execution_count": 13,
     "metadata": {},
     "output_type": "execute_result"
    }
   ],
   "source": [
    "# Problem 3'\n",
    "prsp_3A_, prsp_3B_ = prsp_3A.copy(), prsp_3B.copy()\n",
    "prsp_3A_.update({'outcome':[-g for g in prsp_3A_['outcome']]})\n",
    "prsp_3B_.update({'outcome':[-g for g in prsp_3B_['outcome']]})\n",
    "\n",
    "pt.choose(prsp_3A_, prsp_3B_)"
   ]
  },
  {
   "cell_type": "markdown",
   "metadata": {},
   "source": [
    "- Problem 4: $\\left[\\left(G_1, p_1\\cdot p^{*}\\right), \\left(0, \\frac{1-p_1}{p^{*}}\\right)\\right] > [(G_2, p^{*}), (0, 1-p^{*})]$\n",
    "- Problem 4': $\\left[\\left(-G_1, p_1\\cdot p^{*}\\right), \\left(0, \\frac{1-p_1}{p^{*}}\\right)\\right] < [(-G_2, p^{*}), (0, 1-p^{*})]$"
   ]
  },
  {
   "cell_type": "code",
   "execution_count": 14,
   "metadata": {},
   "outputs": [
    {
     "data": {
      "text/plain": [
       "{'prospect2': {'outcome': [-3000, 0], 'probability': [0.25, 0.75]}}"
      ]
     },
     "execution_count": 14,
     "metadata": {},
     "output_type": "execute_result"
    }
   ],
   "source": [
    "# Problem 4'\n",
    "prsp_4C_, prsp_4D_ = prsp_4C.copy(), prsp_4D.copy()\n",
    "prsp_4C_.update({'outcome':[-g for g in prsp_4C_['outcome']]})\n",
    "prsp_4D_.update({'outcome':[-g for g in prsp_4D_['outcome']]})\n",
    "\n",
    "pt.choose(prsp_4C_, prsp_4D_)"
   ]
  }
 ],
 "metadata": {
  "kernelspec": {
   "display_name": "Python 3",
   "language": "python",
   "name": "python3"
  },
  "language_info": {
   "codemirror_mode": {
    "name": "ipython",
    "version": 3
   },
   "file_extension": ".py",
   "mimetype": "text/x-python",
   "name": "python",
   "nbconvert_exporter": "python",
   "pygments_lexer": "ipython3",
   "version": "3.6.10"
  }
 },
 "nbformat": 4,
 "nbformat_minor": 2
}
